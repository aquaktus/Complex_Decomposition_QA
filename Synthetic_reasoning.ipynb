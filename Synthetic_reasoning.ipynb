{
 "cells": [
  {
   "cell_type": "code",
   "execution_count": 38,
   "metadata": {},
   "outputs": [
    {
     "name": "stdout",
     "output_type": "stream",
     "text": [
      "The autoreload extension is already loaded. To reload it, use:\n",
      "  %reload_ext autoreload\n",
      "The line_profiler extension is already loaded. To reload it, use:\n",
      "  %reload_ext line_profiler\n"
     ]
    }
   ],
   "source": [
    "from src.data_utils import Claim_Verification_Dataset, Variable_Mapping_Dataset\n",
    "from allennlp.training.metrics import CategoricalAccuracy\n",
    "import torch\n",
    "from torch.utils.data import Dataset, DataLoader\n",
    "from src.QA_models import T5_QA_From_Oracle_Facts, T5_QA_Only_Query\n",
    "from src.QA_models import Standard_Transformer\n",
    "from src.utils import CustomTrainer\n",
    "from main import *\n",
    "from tqdm import tqdm\n",
    "import re\n",
    "import matplotlib.pyplot as plt\n",
    "import wandb\n",
    "import cloudpickle\n",
    "import os\n",
    "import string\n",
    "from matplotlib import gridspec\n",
    "from matplotlib.colors import LogNorm\n",
    "\n",
    "%load_ext autoreload\n",
    "%autoreload 2\n",
    "%load_ext line_profiler"
   ]
  },
  {
   "cell_type": "code",
   "execution_count": 4,
   "metadata": {},
   "outputs": [],
   "source": [
    "variable_dataset = Variable_Mapping_Dataset(size=100000, triples_range=[2,3,4], hops_range=[0,1,2,3,4])"
   ]
  },
  {
   "cell_type": "code",
   "execution_count": 5,
   "metadata": {
    "collapsed": true,
    "jupyter": {
     "outputs_hidden": true
    }
   },
   "outputs": [
    {
     "data": {
      "text/plain": [
       "{'facts': [\"Q = 'j'\",\n",
       "  'W = U',\n",
       "  'P = Z',\n",
       "  \"I = 'k'\",\n",
       "  'G = N',\n",
       "  'S = B',\n",
       "  'H = M',\n",
       "  'L = W',\n",
       "  'N = S',\n",
       "  'N = Y',\n",
       "  \"C = 'x'\",\n",
       "  'H = X',\n",
       "  'S = A',\n",
       "  'F = P',\n",
       "  'Q = H',\n",
       "  'H = J',\n",
       "  'Q = T',\n",
       "  'C = L',\n",
       "  \"G = 'z'\",\n",
       "  'I = F',\n",
       "  'X = E'],\n",
       " 'question': 'What is the value of E?',\n",
       " 'answer': 'j',\n",
       " 'proof': 'E = X = H = Q = j'}"
      ]
     },
     "execution_count": 5,
     "metadata": {},
     "output_type": "execute_result"
    }
   ],
   "source": [
    "variable_dataset.data_map['train'][3]"
   ]
  },
  {
   "cell_type": "code",
   "execution_count": 8,
   "metadata": {},
   "outputs": [],
   "source": [
    "args = parser.parse_args(\"--name test --batch_sz 16 --epochs 5 --warmup_steps 200 --gpu_id 1\".split(' '))\n",
    "model = Standard_Transformer(args, t5_type='t5-small')"
   ]
  },
  {
   "cell_type": "code",
   "execution_count": 23,
   "metadata": {},
   "outputs": [],
   "source": [
    "def validate_and_save_fn(trainer):\n",
    "    dev_set = variable_dataset.data_map['dev'][:100]\n",
    "    trainer.model.EM_accuracy.reset()\n",
    "    trainer.model.inference(dev_set, chunk_size=64)\n",
    "    print(dev_set[:2])\n",
    "    valid_score = trainer.model.EM_accuracy.get_metric()\n",
    "    \n",
    "    if trainer.logger:\n",
    "        trainer.logger.log_metrics({'variable_dataset_1_hop':valid_score})\n",
    "        \n",
    "    sorted_best_scores = sorted(trainer.model.validation_scores)\n",
    "    print(f\"Validated and got an exact match of: {valid_score:.3f}%\")\n",
    "    if valid_score > min(sorted_best_scores[-3:], default=-1):\n",
    "        print(f\"Best scores are {sorted_best_scores[-3:]}. Saving model.\")\n",
    "        trainer.model.validation_scores.append(valid_score)\n",
    "        trainer.model.save(os.path.join('saved_models', model_name), f'model_valid_{valid_score:.2f}.sate_dict')"
   ]
  },
  {
   "cell_type": "code",
   "execution_count": 24,
   "metadata": {},
   "outputs": [],
   "source": [
    "model_name = 'Standard_Transformer-base-variable-1-hop'\n",
    "project_name = 'Reasoning_QA'\n",
    "callback_fns = [validate_and_save_fn]\n",
    "wandb_id = wandb.util.generate_id()"
   ]
  },
  {
   "cell_type": "code",
   "execution_count": 25,
   "metadata": {},
   "outputs": [],
   "source": [
    "dataloader = DataLoader(variable_dataset.data_map['train'], batch_size=args.batch_sz, shuffle=True, collate_fn = model.collate)"
   ]
  },
  {
   "cell_type": "code",
   "execution_count": 26,
   "metadata": {
    "collapsed": true,
    "jupyter": {
     "outputs_hidden": true
    }
   },
   "outputs": [
    {
     "name": "stderr",
     "output_type": "stream",
     "text": [
      "GPU available: True, used: True\n",
      "TPU available: None, using: 0 TPU cores\n",
      "\n",
      "  | Name        | Type                | Params\n",
      "----------------------------------------------------\n",
      "0 | transformer | T5_Cond_Gen_Wrapper | 222 M \n",
      "1 | encoder     | T5Stack             | 109 M \n",
      "2 | decoder     | T5Stack             | 137 M \n",
      "3 | lm_head     | Linear              | 24.7 M\n",
      "----------------------------------------------------\n",
      "222 M     Trainable params\n",
      "0         Non-trainable params\n",
      "222 M     Total params\n",
      "891.614   Total estimated model params size (MB)\n"
     ]
    },
    {
     "data": {
      "application/vnd.jupyter.widget-view+json": {
       "model_id": "6fde8e339bfa4944b17ec75eb4ae563d",
       "version_major": 2,
       "version_minor": 0
      },
      "text/plain": [
       "HBox(children=(FloatProgress(value=1.0, bar_style='info', description='Training', layout=Layout(flex='2'), max…"
      ]
     },
     "metadata": {},
     "output_type": "display_data"
    },
    {
     "name": "stderr",
     "output_type": "stream",
     "text": [
      "Inference: 100%|██████████| 2/2 [00:07<00:00,  3.76s/it]\n"
     ]
    },
    {
     "name": "stdout",
     "output_type": "stream",
     "text": [
      "[{'facts': ['V = X', 'U = L', 'T = N', 'S = M', 'V = F', 'C = P', 'O = K', 'Y = A', 'W = U', 'R = H', 'Q = I', \"T = 'z'\", \"C = 'g'\", 'Z = D', 'R = B', 'B = S', 'J = Q', 'T = J', 'E = R', 'Y = O', 'I = Z', 'L = V', 'P = Y', \"E = 'f'\", \"W = 'a'\"], 'question': 'What is the value of Z?', 'answer': 'z', 'proof': 'Z = I = Q = J = T = z', 'all_generations': ['Answer: a Proof: Z = I = Q = J = R = P = C = a'], 'scores': tensor([1.]), 'top_output': 'Answer: a Proof: Z = I = Q = J = R = P = C = a', 'target_text': 'Answer: z Proof: Z = I = Q = J = T = z', 'EM': False}, {'facts': ['Q = F', 'Z = W', 'N = I', 'Z = S', 'P = N', 'C = O', 'C = A', 'Q = J', \"Q = 'q'\", \"P = 'u'\", \"Z = 'a'\", 'Z = U', \"C = 'b'\"], 'question': 'What is the value of N?', 'answer': 'u', 'proof': 'N = P = u', 'all_generations': ['Answer: u Proof: N = P = u'], 'scores': tensor([1.]), 'top_output': 'Answer: u Proof: N = P = u', 'target_text': 'Answer: u Proof: N = P = u', 'EM': True}]\n",
      "Validated and got an exact match of: 0.570%\n",
      "Best scores are [0.0]. Saving model.\n"
     ]
    },
    {
     "name": "stderr",
     "output_type": "stream",
     "text": [
      "Inference: 100%|██████████| 2/2 [00:05<00:00,  2.87s/it]\n"
     ]
    },
    {
     "name": "stdout",
     "output_type": "stream",
     "text": [
      "[{'facts': ['V = X', 'U = L', 'T = N', 'S = M', 'V = F', 'C = P', 'O = K', 'Y = A', 'W = U', 'R = H', 'Q = I', \"T = 'z'\", \"C = 'g'\", 'Z = D', 'R = B', 'B = S', 'J = Q', 'T = J', 'E = R', 'Y = O', 'I = Z', 'L = V', 'P = Y', \"E = 'f'\", \"W = 'a'\"], 'question': 'What is the value of Z?', 'answer': 'z', 'proof': 'Z = I = Q = J = T = z', 'all_generations': ['Answer: g Proof: Z = I = Q = J = T = g'], 'scores': tensor([1.]), 'top_output': 'Answer: g Proof: Z = I = Q = J = T = g', 'target_text': 'Answer: z Proof: Z = I = Q = J = T = z', 'EM': False}, {'facts': ['Q = F', 'Z = W', 'N = I', 'Z = S', 'P = N', 'C = O', 'C = A', 'Q = J', \"Q = 'q'\", \"P = 'u'\", \"Z = 'a'\", 'Z = U', \"C = 'b'\"], 'question': 'What is the value of N?', 'answer': 'u', 'proof': 'N = P = u', 'all_generations': ['Answer: u Proof: N = P = u'], 'scores': tensor([1.]), 'top_output': 'Answer: u Proof: N = P = u', 'target_text': 'Answer: u Proof: N = P = u', 'EM': True}]\n",
      "Validated and got an exact match of: 0.650%\n",
      "Best scores are [0.0, 0.57]. Saving model.\n"
     ]
    },
    {
     "name": "stderr",
     "output_type": "stream",
     "text": [
      "Inference: 100%|██████████| 2/2 [00:04<00:00,  2.42s/it]\n"
     ]
    },
    {
     "name": "stdout",
     "output_type": "stream",
     "text": [
      "[{'facts': ['V = X', 'U = L', 'T = N', 'S = M', 'V = F', 'C = P', 'O = K', 'Y = A', 'W = U', 'R = H', 'Q = I', \"T = 'z'\", \"C = 'g'\", 'Z = D', 'R = B', 'B = S', 'J = Q', 'T = J', 'E = R', 'Y = O', 'I = Z', 'L = V', 'P = Y', \"E = 'f'\", \"W = 'a'\"], 'question': 'What is the value of Z?', 'answer': 'z', 'proof': 'Z = I = Q = J = T = z', 'all_generations': ['Answer: z Proof: Z = I = Q = J = T = z'], 'scores': tensor([1.]), 'top_output': 'Answer: z Proof: Z = I = Q = J = T = z', 'target_text': 'Answer: z Proof: Z = I = Q = J = T = z', 'EM': True}, {'facts': ['Q = F', 'Z = W', 'N = I', 'Z = S', 'P = N', 'C = O', 'C = A', 'Q = J', \"Q = 'q'\", \"P = 'u'\", \"Z = 'a'\", 'Z = U', \"C = 'b'\"], 'question': 'What is the value of N?', 'answer': 'u', 'proof': 'N = P = u', 'all_generations': ['Answer: u Proof: N = P = u'], 'scores': tensor([1.]), 'top_output': 'Answer: u Proof: N = P = u', 'target_text': 'Answer: u Proof: N = P = u', 'EM': True}]\n",
      "Validated and got an exact match of: 0.630%\n",
      "Best scores are [0.0, 0.57, 0.65]. Saving model.\n"
     ]
    },
    {
     "name": "stderr",
     "output_type": "stream",
     "text": [
      "Inference: 100%|██████████| 2/2 [00:04<00:00,  2.39s/it]\n"
     ]
    },
    {
     "name": "stdout",
     "output_type": "stream",
     "text": [
      "[{'facts': ['V = X', 'U = L', 'T = N', 'S = M', 'V = F', 'C = P', 'O = K', 'Y = A', 'W = U', 'R = H', 'Q = I', \"T = 'z'\", \"C = 'g'\", 'Z = D', 'R = B', 'B = S', 'J = Q', 'T = J', 'E = R', 'Y = O', 'I = Z', 'L = V', 'P = Y', \"E = 'f'\", \"W = 'a'\"], 'question': 'What is the value of Z?', 'answer': 'z', 'proof': 'Z = I = Q = J = T = z', 'all_generations': ['Answer: f Proof: Z = I = Q = J = T = f'], 'scores': tensor([1.]), 'top_output': 'Answer: f Proof: Z = I = Q = J = T = f', 'target_text': 'Answer: z Proof: Z = I = Q = J = T = z', 'EM': False}, {'facts': ['Q = F', 'Z = W', 'N = I', 'Z = S', 'P = N', 'C = O', 'C = A', 'Q = J', \"Q = 'q'\", \"P = 'u'\", \"Z = 'a'\", 'Z = U', \"C = 'b'\"], 'question': 'What is the value of N?', 'answer': 'u', 'proof': 'N = P = u', 'all_generations': ['Answer: u Proof: N = P = u'], 'scores': tensor([1.]), 'top_output': 'Answer: u Proof: N = P = u', 'target_text': 'Answer: u Proof: N = P = u', 'EM': True}]\n",
      "Validated and got an exact match of: 0.600%\n",
      "Best scores are [0.57, 0.63, 0.65]. Saving model.\n"
     ]
    },
    {
     "name": "stderr",
     "output_type": "stream",
     "text": [
      "Inference: 100%|██████████| 2/2 [00:04<00:00,  2.36s/it]\n"
     ]
    },
    {
     "name": "stdout",
     "output_type": "stream",
     "text": [
      "[{'facts': ['V = X', 'U = L', 'T = N', 'S = M', 'V = F', 'C = P', 'O = K', 'Y = A', 'W = U', 'R = H', 'Q = I', \"T = 'z'\", \"C = 'g'\", 'Z = D', 'R = B', 'B = S', 'J = Q', 'T = J', 'E = R', 'Y = O', 'I = Z', 'L = V', 'P = Y', \"E = 'f'\", \"W = 'a'\"], 'question': 'What is the value of Z?', 'answer': 'z', 'proof': 'Z = I = Q = J = T = z', 'all_generations': ['Answer: a Proof: Z = I = Q = J = T = a'], 'scores': tensor([1.]), 'top_output': 'Answer: a Proof: Z = I = Q = J = T = a', 'target_text': 'Answer: z Proof: Z = I = Q = J = T = z', 'EM': False}, {'facts': ['Q = F', 'Z = W', 'N = I', 'Z = S', 'P = N', 'C = O', 'C = A', 'Q = J', \"Q = 'q'\", \"P = 'u'\", \"Z = 'a'\", 'Z = U', \"C = 'b'\"], 'question': 'What is the value of N?', 'answer': 'u', 'proof': 'N = P = u', 'all_generations': ['Answer: u Proof: N = P = u'], 'scores': tensor([1.]), 'top_output': 'Answer: u Proof: N = P = u', 'target_text': 'Answer: u Proof: N = P = u', 'EM': True}]\n",
      "Validated and got an exact match of: 0.710%\n",
      "Best scores are [0.6, 0.63, 0.65]. Saving model.\n"
     ]
    },
    {
     "name": "stderr",
     "output_type": "stream",
     "text": [
      "Inference: 100%|██████████| 2/2 [00:04<00:00,  2.48s/it]\n"
     ]
    },
    {
     "name": "stdout",
     "output_type": "stream",
     "text": [
      "[{'facts': ['V = X', 'U = L', 'T = N', 'S = M', 'V = F', 'C = P', 'O = K', 'Y = A', 'W = U', 'R = H', 'Q = I', \"T = 'z'\", \"C = 'g'\", 'Z = D', 'R = B', 'B = S', 'J = Q', 'T = J', 'E = R', 'Y = O', 'I = Z', 'L = V', 'P = Y', \"E = 'f'\", \"W = 'a'\"], 'question': 'What is the value of Z?', 'answer': 'z', 'proof': 'Z = I = Q = J = T = z', 'all_generations': ['Answer: z Proof: Z = I = Q = J = T = z'], 'scores': tensor([1.]), 'top_output': 'Answer: z Proof: Z = I = Q = J = T = z', 'target_text': 'Answer: z Proof: Z = I = Q = J = T = z', 'EM': True}, {'facts': ['Q = F', 'Z = W', 'N = I', 'Z = S', 'P = N', 'C = O', 'C = A', 'Q = J', \"Q = 'q'\", \"P = 'u'\", \"Z = 'a'\", 'Z = U', \"C = 'b'\"], 'question': 'What is the value of N?', 'answer': 'u', 'proof': 'N = P = u', 'all_generations': ['Answer: u Proof: N = P = u'], 'scores': tensor([1.]), 'top_output': 'Answer: u Proof: N = P = u', 'target_text': 'Answer: u Proof: N = P = u', 'EM': True}]\n",
      "Validated and got an exact match of: 0.900%\n",
      "Best scores are [0.63, 0.65, 0.71]. Saving model.\n"
     ]
    },
    {
     "name": "stderr",
     "output_type": "stream",
     "text": [
      "Inference: 100%|██████████| 2/2 [00:04<00:00,  2.39s/it]\n"
     ]
    },
    {
     "name": "stdout",
     "output_type": "stream",
     "text": [
      "[{'facts': ['V = X', 'U = L', 'T = N', 'S = M', 'V = F', 'C = P', 'O = K', 'Y = A', 'W = U', 'R = H', 'Q = I', \"T = 'z'\", \"C = 'g'\", 'Z = D', 'R = B', 'B = S', 'J = Q', 'T = J', 'E = R', 'Y = O', 'I = Z', 'L = V', 'P = Y', \"E = 'f'\", \"W = 'a'\"], 'question': 'What is the value of Z?', 'answer': 'z', 'proof': 'Z = I = Q = J = T = z', 'all_generations': ['Answer: z Proof: Z = I = Q = J = T = z'], 'scores': tensor([1.]), 'top_output': 'Answer: z Proof: Z = I = Q = J = T = z', 'target_text': 'Answer: z Proof: Z = I = Q = J = T = z', 'EM': True}, {'facts': ['Q = F', 'Z = W', 'N = I', 'Z = S', 'P = N', 'C = O', 'C = A', 'Q = J', \"Q = 'q'\", \"P = 'u'\", \"Z = 'a'\", 'Z = U', \"C = 'b'\"], 'question': 'What is the value of N?', 'answer': 'u', 'proof': 'N = P = u', 'all_generations': ['Answer: u Proof: N = P = u'], 'scores': tensor([1.]), 'top_output': 'Answer: u Proof: N = P = u', 'target_text': 'Answer: u Proof: N = P = u', 'EM': True}]\n",
      "Validated and got an exact match of: 0.870%\n",
      "Best scores are [0.65, 0.71, 0.9]. Saving model.\n"
     ]
    },
    {
     "name": "stderr",
     "output_type": "stream",
     "text": [
      "Inference: 100%|██████████| 2/2 [00:04<00:00,  2.43s/it]\n"
     ]
    },
    {
     "name": "stdout",
     "output_type": "stream",
     "text": [
      "[{'facts': ['V = X', 'U = L', 'T = N', 'S = M', 'V = F', 'C = P', 'O = K', 'Y = A', 'W = U', 'R = H', 'Q = I', \"T = 'z'\", \"C = 'g'\", 'Z = D', 'R = B', 'B = S', 'J = Q', 'T = J', 'E = R', 'Y = O', 'I = Z', 'L = V', 'P = Y', \"E = 'f'\", \"W = 'a'\"], 'question': 'What is the value of Z?', 'answer': 'z', 'proof': 'Z = I = Q = J = T = z', 'all_generations': ['Answer: z Proof: Z = I = Q = J = T = z'], 'scores': tensor([1.]), 'top_output': 'Answer: z Proof: Z = I = Q = J = T = z', 'target_text': 'Answer: z Proof: Z = I = Q = J = T = z', 'EM': True}, {'facts': ['Q = F', 'Z = W', 'N = I', 'Z = S', 'P = N', 'C = O', 'C = A', 'Q = J', \"Q = 'q'\", \"P = 'u'\", \"Z = 'a'\", 'Z = U', \"C = 'b'\"], 'question': 'What is the value of N?', 'answer': 'u', 'proof': 'N = P = u', 'all_generations': ['Answer: u Proof: N = P = u'], 'scores': tensor([1.]), 'top_output': 'Answer: u Proof: N = P = u', 'target_text': 'Answer: u Proof: N = P = u', 'EM': True}]\n",
      "Validated and got an exact match of: 0.900%\n",
      "Best scores are [0.71, 0.87, 0.9]. Saving model.\n",
      "\n"
     ]
    },
    {
     "data": {
      "text/plain": [
       "1"
      ]
     },
     "execution_count": 26,
     "metadata": {},
     "output_type": "execute_result"
    }
   ],
   "source": [
    "my_trainer = CustomTrainer(gpus=args.gpu_id, gradient_clip_val=0.5, amp_level='O1', max_epochs=20, accumulate_grad_batches=4, steps_to_call=30, callback_fns=[validate_and_save_fn])\n",
    "my_trainer.fit(model, dataloader)"
   ]
  },
  {
   "cell_type": "code",
   "execution_count": 9,
   "metadata": {},
   "outputs": [],
   "source": [
    "model.load('saved_models/Standard_Transformer-small-variable-1-hop/model_valid_0.98.sate_dict')"
   ]
  },
  {
   "cell_type": "code",
   "execution_count": 10,
   "metadata": {
    "collapsed": true,
    "jupyter": {
     "outputs_hidden": true
    }
   },
   "outputs": [
    {
     "data": {
      "text/plain": [
       "{'facts': ['H = E',\n",
       "  'F = X',\n",
       "  \"Z = 'r'\",\n",
       "  'A = P',\n",
       "  'W = O',\n",
       "  'M = T',\n",
       "  'I = J',\n",
       "  'T = N',\n",
       "  'Q = W',\n",
       "  'D = F',\n",
       "  'L = C',\n",
       "  'O = U',\n",
       "  \"K = 'n'\",\n",
       "  \"G = 'p'\",\n",
       "  'X = I',\n",
       "  \"B = 'j'\",\n",
       "  'Z = A',\n",
       "  'P = R',\n",
       "  'G = L',\n",
       "  'Y = M',\n",
       "  'B = Q',\n",
       "  'K = Y',\n",
       "  'R = H',\n",
       "  'S = V',\n",
       "  'C = S',\n",
       "  \"D = 'a'\"],\n",
       " 'question': 'What is the value of E?',\n",
       " 'answer': 'r',\n",
       " 'proof': 'E = H = R = P = A = Z = r'}"
      ]
     },
     "execution_count": 10,
     "metadata": {},
     "output_type": "execute_result"
    }
   ],
   "source": [
    "hard_dataset = Variable_Mapping_Dataset(size=100, triples_range=[5], hops_range=[5], distractors_range=[1])\n",
    "custom_samples = hard_dataset.data_map['all']\n",
    "custom_samples[0]"
   ]
  },
  {
   "cell_type": "code",
   "execution_count": 12,
   "metadata": {},
   "outputs": [
    {
     "name": "stderr",
     "output_type": "stream",
     "text": [
      "Inference: 100%|██████████| 2/2 [00:05<00:00,  2.59s/it]\n"
     ]
    },
    {
     "data": {
      "text/plain": [
       "0.0"
      ]
     },
     "execution_count": 12,
     "metadata": {},
     "output_type": "execute_result"
    }
   ],
   "source": [
    "model.to('cuda:1')\n",
    "model.metric_reset()\n",
    "model.inference(custom_samples)\n",
    "model.EM_accuracy.get_metric()"
   ]
  },
  {
   "cell_type": "code",
   "execution_count": 69,
   "metadata": {},
   "outputs": [
    {
     "data": {
      "application/vnd.jupyter.widget-view+json": {
       "model_id": "3b11b36cc82849288277625bf7ccbdeb",
       "version_major": 2,
       "version_minor": 0
      },
      "text/plain": [
       "interactive(children=(SelectionSlider(continuous_update=False, description='Selected token:', options=('7781->…"
      ]
     },
     "metadata": {},
     "output_type": "display_data"
    }
   ],
   "source": [
    "model.visualise(custom_samples[0])"
   ]
  },
  {
   "cell_type": "code",
   "execution_count": 68,
   "metadata": {},
   "outputs": [
    {
     "name": "stdout",
     "output_type": "stream",
     "text": [
      "> \u001b[0;32m/nfs/Complex_Decomposition_QA/src/QA_models.py\u001b[0m(473)\u001b[0;36mvisualise_for_token\u001b[0;34m()\u001b[0m\n",
      "\u001b[0;32m    471 \u001b[0;31m\u001b[0;34m\u001b[0m\u001b[0m\n",
      "\u001b[0m\u001b[0;32m    472 \u001b[0;31m    \u001b[0;32mdef\u001b[0m \u001b[0mvisualise_for_token\u001b[0m\u001b[0;34m(\u001b[0m\u001b[0mself\u001b[0m\u001b[0;34m,\u001b[0m \u001b[0msample\u001b[0m\u001b[0;34m,\u001b[0m \u001b[0mtarget_id\u001b[0m\u001b[0;34m)\u001b[0m\u001b[0;34m:\u001b[0m\u001b[0;34m\u001b[0m\u001b[0;34m\u001b[0m\u001b[0m\n",
      "\u001b[0m\u001b[0;32m--> 473 \u001b[0;31m        \u001b[0mtarget_id\u001b[0m \u001b[0;34m=\u001b[0m \u001b[0mint\u001b[0m\u001b[0;34m(\u001b[0m\u001b[0mtarget_id\u001b[0m\u001b[0;34m.\u001b[0m\u001b[0msplit\u001b[0m\u001b[0;34m(\u001b[0m\u001b[0;34m'->'\u001b[0m\u001b[0;34m)\u001b[0m\u001b[0;34m[\u001b[0m\u001b[0;36m1\u001b[0m\u001b[0;34m]\u001b[0m\u001b[0;34m)\u001b[0m \u001b[0;32mif\u001b[0m \u001b[0misinstance\u001b[0m\u001b[0;34m(\u001b[0m\u001b[0mtarget_id\u001b[0m\u001b[0;34m,\u001b[0m \u001b[0mstr\u001b[0m\u001b[0;34m)\u001b[0m \u001b[0;32melse\u001b[0m \u001b[0mtarget_id\u001b[0m\u001b[0;34m\u001b[0m\u001b[0;34m\u001b[0m\u001b[0m\n",
      "\u001b[0m\u001b[0;32m    474 \u001b[0;31m        \u001b[0msample\u001b[0m \u001b[0;34m=\u001b[0m \u001b[0mself\u001b[0m\u001b[0;34m.\u001b[0m\u001b[0minference\u001b[0m\u001b[0;34m(\u001b[0m\u001b[0;34m[\u001b[0m\u001b[0msample\u001b[0m\u001b[0;34m]\u001b[0m\u001b[0;34m,\u001b[0m \u001b[0mreturn_hidden_states\u001b[0m\u001b[0;34m=\u001b[0m\u001b[0;32mTrue\u001b[0m\u001b[0;34m)\u001b[0m\u001b[0;34m[\u001b[0m\u001b[0;36m0\u001b[0m\u001b[0;34m]\u001b[0m\u001b[0;34m\u001b[0m\u001b[0;34m\u001b[0m\u001b[0m\n",
      "\u001b[0m\u001b[0;32m    475 \u001b[0;31m\u001b[0;34m\u001b[0m\u001b[0m\n",
      "\u001b[0m\n"
     ]
    },
    {
     "name": "stdin",
     "output_type": "stream",
     "text": [
      "ipdb>  target_id\n"
     ]
    },
    {
     "name": "stdout",
     "output_type": "stream",
     "text": [
      "'7781->Cla'\n"
     ]
    },
    {
     "name": "stdin",
     "output_type": "stream",
     "text": [
      "ipdb>  exit\n"
     ]
    }
   ],
   "source": [
    "%debug"
   ]
  },
  {
   "cell_type": "code",
   "execution_count": null,
   "metadata": {},
   "outputs": [],
   "source": []
  },
  {
   "cell_type": "code",
   "execution_count": 17,
   "metadata": {},
   "outputs": [
    {
     "name": "stderr",
     "output_type": "stream",
     "text": [
      "Inference: 100%|██████████| 1/1 [00:00<00:00,  6.85it/s]\n"
     ]
    },
    {
     "data": {
      "text/plain": [
       "torch.Size([11, 7, 512])"
      ]
     },
     "execution_count": 17,
     "metadata": {},
     "output_type": "execute_result"
    }
   ],
   "source": [
    "custom_samples = [{'facts': [\"K = 'f'\",\n",
    "  'P = T',\n",
    "  'H = Z',\n",
    "  'W = U'],\n",
    " 'question': 'What is the value of K?'},\n",
    "                 {'facts': [\"K = 'f'\",\n",
    "  'P = T',\n",
    "  'H = Z',\n",
    "  'K = F'],\n",
    " 'question': 'What is the value of K'}]\n",
    "model.inference(custom_samples, return_hidden_states=True)\n",
    "custom_samples[0]['decoder_hidden_states'].shape"
   ]
  },
  {
   "cell_type": "code",
   "execution_count": 26,
   "metadata": {},
   "outputs": [],
   "source": [
    "encoder_dots = model.transformer.lm_head(custom_samples[0]['encoder_hidden_states']).argsort(descending=True).tolist()\n",
    "decoder_dots = model.transformer.lm_head(custom_samples[0]['decoder_hidden_states']).argsort(descending=True).tolist()"
   ]
  },
  {
   "cell_type": "code",
   "execution_count": 21,
   "metadata": {},
   "outputs": [
    {
     "data": {
      "text/plain": [
       "tensor([ 7781,   603,    10,   363,    19,     8,   701,    13,   480,    58,\n",
       "         1820,  9175,  9175, 11543,     7,    10,   480,  3274,     3,    31,\n",
       "           89,    31,  1820,   276,  3274,   332,  1820,   454,  3274,  1027,\n",
       "         1820,   549,  3274,   412,     1], device='cuda:1')"
      ]
     },
     "execution_count": 21,
     "metadata": {},
     "output_type": "execute_result"
    }
   ],
   "source": [
    "custom_samples[0]['encoder_input_ids'].flatten()"
   ]
  },
  {
   "cell_type": "code",
   "execution_count": 54,
   "metadata": {},
   "outputs": [],
   "source": [
    "target_id = 480"
   ]
  },
  {
   "cell_type": "code",
   "execution_count": 55,
   "metadata": {},
   "outputs": [
    {
     "name": "stderr",
     "output_type": "stream",
     "text": [
      "100%|██████████| 7/7 [00:00<00:00, 335.93it/s]\n",
      "100%|██████████| 7/7 [00:00<00:00, 1971.93it/s]\n"
     ]
    }
   ],
   "source": [
    "encoder_ids = custom_samples[0]['encoder_input_ids'].flatten()\n",
    "decoder_ids = custom_samples[0]['decoder_input_ids']\n",
    "\n",
    "encoder_tokens = model.tokenizer.batch_decode(encoder_ids.view(-1,1))\n",
    "decoder_tokens = model.tokenizer.batch_decode(decoder_ids.view(-1,1))\n",
    "\n",
    "layers = custom_samples[0]['encoder_hidden_states'].shape[1]\n",
    "encoder_plot = torch.zeros((layers, len(encoder_ids)), dtype=torch.int)\n",
    "decoder_plot = torch.zeros((layers, len(decoder_ids)-1), dtype=torch.int)\n",
    "\n",
    "# encoder \n",
    "for row in tqdm(range(layers)):\n",
    "    for column in range(len(encoder_ids)):\n",
    "        rank = encoder_dots[column][row].index(target_id)     #(input_ids[column+1])\n",
    "        encoder_plot[row, column] = rank\n",
    "        \n",
    "# decoder\n",
    "for row in tqdm(range(layers)):\n",
    "    for column in range(len(decoder_ids)-1):\n",
    "        rank = decoder_dots[column][row].index(target_id)     #(input_ids[column+1])\n",
    "        decoder_plot[row, column] = rank"
   ]
  },
  {
   "cell_type": "code",
   "execution_count": 53,
   "metadata": {
    "collapsed": true,
    "jupyter": {
     "outputs_hidden": true
    }
   },
   "outputs": [
    {
     "name": "stdout",
     "output_type": "stream",
     "text": [
      "'Cla' -> 7781\n",
      "'im' -> 603\n",
      "':' -> 10\n",
      "'What' -> 363\n",
      "'is' -> 19\n",
      "'the' -> 8\n",
      "'value' -> 701\n",
      "'of' -> 13\n",
      "'K' -> 480\n",
      "'?' -> 58\n",
      "'|' -> 1820\n",
      "'|' -> 9175\n",
      "'|' -> 9175\n",
      "'Fact' -> 11543\n",
      "'s' -> 7\n",
      "':' -> 10\n",
      "'K' -> 480\n",
      "'=' -> 3274\n",
      "'' -> 3\n",
      "''' -> 31\n",
      "'f' -> 89\n",
      "''' -> 31\n",
      "'|' -> 1820\n",
      "'P' -> 276\n",
      "'=' -> 3274\n",
      "'T' -> 332\n",
      "'|' -> 1820\n",
      "'H' -> 454\n",
      "'=' -> 3274\n",
      "'Z' -> 1027\n",
      "'|' -> 1820\n",
      "'W' -> 549\n",
      "'=' -> 3274\n",
      "'U' -> 412\n",
      "'</s>' -> 1\n",
      "------------------\n",
      "'<pad>' -> 0\n",
      "'Answer' -> 11801\n",
      "':' -> 10\n",
      "'' -> 3\n",
      "'f' -> 89\n",
      "'Proof' -> 25029\n",
      "':' -> 10\n",
      "'K' -> 480\n",
      "'=' -> 3274\n",
      "'' -> 3\n",
      "'f' -> 89\n",
      "'</s>' -> 1\n"
     ]
    }
   ],
   "source": [
    "for idx in encoder_ids:\n",
    "    print(f\"'{model.tokenizer.decode([idx])}' -> {idx}\")\n",
    "print('------------------')\n",
    "for idx in decoder_ids:\n",
    "    print(f\"'{model.tokenizer.decode([idx])}' -> {idx}\")"
   ]
  },
  {
   "cell_type": "code",
   "execution_count": 58,
   "metadata": {},
   "outputs": [
    {
     "data": {
      "image/png": "[encoded data removed]",
      "text/plain": [
       "<Figure size 864x432 with 3 Axes>"
      ]
     },
     "metadata": {
      "needs_background": "light"
     },
     "output_type": "display_data"
    }
   ],
   "source": [
    "# fig, [ax1, ax2] = plt.subplots(1, 2, constrained_layout=True)\n",
    "fig = plt.figure(figsize=(12, 6))\n",
    "ax1 = plt.subplot2grid((1, 3), (0, 0), colspan=2)\n",
    "ax2 = plt.subplot2grid((1, 3), (0, 2), colspan=1)\n",
    "\n",
    "gs = gridspec.GridSpec(1, 2, width_ratios=[3, 1]) \n",
    "h1 = ax1.imshow(encoder_plot+1, norm=LogNorm(), cmap=plt.cm.GnBu_r, aspect='auto')\n",
    "h2 = ax2.imshow(decoder_plot+1, norm=LogNorm(), cmap=plt.cm.GnBu_r, aspect='auto')\n",
    "\n",
    "ax1.xaxis.set_ticks(range(len(encoder_tokens)))\n",
    "ax1.set_xticklabels(encoder_tokens, minor=False, rotation = 45)\n",
    "\n",
    "# Loop over data dimensions and create text annotations.\n",
    "for i in range(layers):\n",
    "    for j in range(len(encoder_tokens)):\n",
    "        if encoder_plot[i, j] < 200:\n",
    "            text = ax1.text(j, i, int(encoder_plot[i, j]),\n",
    "                           ha=\"center\", va=\"center\", color=\"w\")\n",
    "\n",
    "ax2.xaxis.set_ticks(range(len(decoder_tokens)))\n",
    "ax2.set_xticklabels(decoder_tokens, minor=False, rotation = 45)\n",
    "ax1.xaxis.tick_top()\n",
    "ax2.xaxis.tick_top()\n",
    "\n",
    "ax1.set_title(\"Encoder\")\n",
    "ax2.set_title(\"Decoder\")\n",
    "fig.suptitle(f\"T5 logit similarity rank for tok '{model.tokenizer.decode([target_id])}'\", fontsize=16, y=1.1)\n",
    "\n",
    "fig.colorbar(h2, ax=ax2)\n",
    "plt.show(block=False) "
   ]
  },
  {
   "cell_type": "code",
   "execution_count": 16,
   "metadata": {},
   "outputs": [
    {
     "data": {
      "text/plain": [
       "{'facts': [\"K = 'f'\", 'P = T', 'H = Z', 'W = U'],\n",
       " 'question': 'What is the value of K?',\n",
       " 'encoder_input_ids': tensor([[ 7781,   603,    10,   363,    19,     8,   701,    13,   480,    58,\n",
       "           1820,  9175,  9175, 11543,     7,    10,   480,  3274,     3,    31,\n",
       "             89,    31,  1820,   276,  3274,   332,  1820,   454,  3274,  1027,\n",
       "           1820,   549,  3274,   412,     1]], device='cuda:1'),\n",
       " 'decoder_input_ids': tensor([    0, 11801,    10,     3,    89, 25029,    10,   480,  3274,     3,\n",
       "            89,     1], device='cuda:1'),\n",
       " 'all_generations': ['Answer: f Proof: K = f'],\n",
       " 'scores': tensor([1.]),\n",
       " 'top_output': 'Answer: f Proof: K = f',\n",
       " 'encoder_hidden_states': tensor([[[-9.4388e+00,  6.3108e-01, -1.6500e+01,  ..., -1.6502e+01,\n",
       "            4.8499e+01,  7.1895e+00],\n",
       "          [ 2.4707e+00,  1.0071e+01, -1.5979e+01,  ..., -1.8241e+01,\n",
       "            1.9600e+01,  4.0102e+00],\n",
       "          [ 2.9066e+01,  1.7077e+01, -3.6287e+01,  ..., -3.8816e+01,\n",
       "            3.2395e+01,  4.3979e+00],\n",
       "          ...,\n",
       "          [ 2.1665e+01, -1.2123e+01, -1.7924e+01,  ..., -9.7511e+01,\n",
       "            3.2620e+01, -3.0685e+01],\n",
       "          [-3.2132e+01,  2.2718e+01,  7.8507e+00,  ..., -1.5102e+02,\n",
       "            3.8004e+01, -2.3220e+01],\n",
       "          [ 3.4277e-02,  1.1023e-01,  7.2327e-02,  ..., -3.7793e-01,\n",
       "            1.1935e-02, -5.1760e-02]],\n",
       " \n",
       "         [[-3.8248e+01, -1.8583e+00,  4.0500e+01,  ..., -1.9495e+01,\n",
       "            1.3874e+01, -2.5753e+00],\n",
       "          [-4.3697e+01, -1.7534e+01,  3.6633e+01,  ..., -2.4319e+00,\n",
       "           -2.5075e+01, -7.2670e+00],\n",
       "          [-5.0927e+01, -1.9837e+01,  4.0606e+01,  ..., -1.6928e+01,\n",
       "           -5.3380e+01, -1.0910e+00],\n",
       "          ...,\n",
       "          [-2.5055e+01, -3.5940e+01, -2.6059e+00,  ..., -9.8378e+00,\n",
       "           -6.3243e+01,  1.3648e+00],\n",
       "          [-3.0248e+01, -3.0333e+01,  3.8810e+00,  ..., -7.7395e+00,\n",
       "           -8.9747e+01,  1.1758e+01],\n",
       "          [ 3.0487e-02, -8.9374e-02, -5.4536e-02,  ..., -6.0936e-03,\n",
       "           -1.9480e-01,  1.5851e-02]],\n",
       " \n",
       "         [[ 1.6591e+00,  6.2248e+00,  7.4996e+00,  ...,  1.1436e+01,\n",
       "           -1.0819e+00,  8.4939e+00],\n",
       "          [-1.0410e+01,  1.4792e+01,  1.1936e+01,  ...,  2.5272e+01,\n",
       "           -1.0430e+01,  6.6217e+00],\n",
       "          [-8.5160e+00,  7.3721e+00,  5.6319e+00,  ...,  2.4256e+01,\n",
       "           -1.6060e+01, -4.1721e+00],\n",
       "          ...,\n",
       "          [-8.2451e+00,  1.6865e+01,  1.9924e+01,  ...,  3.1909e+01,\n",
       "           -5.7992e+01, -1.7259e+01],\n",
       "          [-1.5953e+01,  4.6017e+01,  5.1941e+01,  ...,  5.0331e+01,\n",
       "           -4.8800e+01, -4.9310e+00],\n",
       "          [ 8.8869e-02,  1.1295e-01,  1.9804e-01,  ...,  1.6380e-01,\n",
       "           -3.4197e-02, -2.8478e-02]],\n",
       " \n",
       "         ...,\n",
       " \n",
       "         [[-4.6257e+01,  6.2124e+00,  2.9000e+01,  ...,  9.4952e+00,\n",
       "            8.1003e+01,  8.6833e-01],\n",
       "          [-4.3067e+01,  1.1586e+00,  1.6348e+01,  ..., -1.0152e+01,\n",
       "            7.3564e+01,  1.7255e+00],\n",
       "          [-8.4012e+00,  2.6181e+00,  6.8893e+00,  ..., -2.5602e+01,\n",
       "            7.0958e+01, -1.8293e+01],\n",
       "          ...,\n",
       "          [ 3.9763e+01,  3.3699e+01,  1.1705e+01,  ..., -1.5736e+01,\n",
       "            9.2574e+01, -4.4187e+01],\n",
       "          [ 2.7781e+01,  7.0330e+01,  2.7067e+01,  ..., -3.6552e+01,\n",
       "            6.8086e+01, -2.8152e+01],\n",
       "          [ 1.8318e-01,  2.9556e-01,  7.7027e-02,  ..., -1.1301e-01,\n",
       "            1.8930e-01, -5.4503e-02]],\n",
       " \n",
       "         [[-2.5001e+01, -1.1552e+00,  7.2157e+00,  ..., -1.2934e+01,\n",
       "            1.4811e+01, -3.2995e+00],\n",
       "          [-3.2764e+01, -1.3548e+01,  2.8807e+01,  ..., -1.6417e+01,\n",
       "           -5.9032e+00, -1.5415e+01],\n",
       "          [-3.7365e+01, -2.1135e+01,  2.9864e+01,  ..., -2.1964e+01,\n",
       "           -3.0350e+01, -3.0656e+00],\n",
       "          ...,\n",
       "          [-2.5002e+01, -4.2634e+00,  4.5747e+01,  ..., -6.3755e+00,\n",
       "           -7.2576e+01, -3.1945e+01],\n",
       "          [-1.3171e+01, -3.6407e+01,  5.1310e+01,  ...,  1.4318e-01,\n",
       "           -9.2759e+01,  1.5728e+01],\n",
       "          [-1.9457e-01, -2.7083e-02,  6.8416e-02,  ..., -2.6060e-02,\n",
       "           -3.4340e-01,  4.4913e-02]],\n",
       " \n",
       "         [[ 1.2628e+01,  8.2011e+00, -1.1627e+01,  ...,  7.9333e+00,\n",
       "           -7.3177e+00,  9.4533e-01],\n",
       "          [ 1.9436e+01,  1.3252e+01, -1.2531e+01,  ...,  2.0448e+01,\n",
       "           -2.4300e+00, -1.8071e+00],\n",
       "          [ 1.0638e+01,  9.6804e+00, -1.3871e+01,  ...,  3.2430e+01,\n",
       "           -6.9148e+00, -1.4171e+01],\n",
       "          ...,\n",
       "          [ 1.8351e+00,  5.7439e-01, -3.3449e+01,  ...,  4.1885e+01,\n",
       "           -7.0338e+00, -2.5015e+01],\n",
       "          [ 5.0715e+00, -1.1040e+01, -3.5062e+01,  ...,  4.8912e+01,\n",
       "           -1.9363e+00, -6.4601e+00],\n",
       "          [ 6.7716e-03, -3.9043e-03, -9.3933e-03,  ...,  4.1162e-02,\n",
       "           -3.2886e-03, -2.0521e-02]]], device='cuda:1'),\n",
       " 'decoder_hidden_states': tensor([[[-2.0124e+00,  2.1940e-01, -7.0939e+00,  ..., -3.5760e-01,\n",
       "            2.6402e+00, -2.8916e+00],\n",
       "          [ 2.3560e+01, -1.6814e+01, -3.6972e+00,  ..., -6.9966e+00,\n",
       "            1.1669e+01,  1.8850e+00],\n",
       "          [ 4.0184e+01,  1.5385e+01, -2.7045e+01,  ..., -3.9525e-01,\n",
       "            2.6789e+01,  9.7042e+00],\n",
       "          ...,\n",
       "          [ 8.1132e+01,  7.1713e+01,  2.6125e+01,  ...,  3.6393e+01,\n",
       "            7.0306e+01,  1.2002e+01],\n",
       "          [ 1.1964e+02,  1.7264e+02,  6.2782e+01,  ...,  8.1354e+01,\n",
       "            1.2325e+02, -1.1570e+00],\n",
       "          [ 3.3656e-03,  1.0599e-01,  7.6754e-02,  ..., -3.5910e-02,\n",
       "           -1.2597e-02, -1.0160e-02]],\n",
       " \n",
       "         [[ 8.3720e+00, -6.3399e+00, -9.1222e+00,  ..., -1.2060e+01,\n",
       "           -1.8505e+01,  1.9124e+01],\n",
       "          [ 3.1351e+01,  1.4863e+01,  1.4771e+01,  ...,  1.6128e+00,\n",
       "           -1.8099e+00,  3.8535e+01],\n",
       "          [ 2.2108e+01,  7.4083e+01, -3.2472e+00,  ...,  4.9721e+01,\n",
       "            4.5712e+01,  4.3240e+01],\n",
       "          ...,\n",
       "          [-3.3451e+01,  3.4356e+02,  1.4938e+01,  ...,  9.7044e+01,\n",
       "            9.6659e+01,  6.2215e+01],\n",
       "          [-7.2943e+01,  5.6422e+02,  5.9828e+01,  ...,  1.4945e+02,\n",
       "            1.7373e+02,  9.4372e+00],\n",
       "          [-5.2075e-03,  2.0201e-01,  3.6983e-02,  ..., -3.7386e-04,\n",
       "           -1.0909e-02, -5.8017e-03]],\n",
       " \n",
       "         [[ 1.6591e+00,  6.2248e+00,  7.4996e+00,  ...,  1.1436e+01,\n",
       "           -1.0819e+00,  8.4939e+00],\n",
       "          [ 3.1482e+01, -1.6222e+01, -2.4653e+01,  ...,  1.7503e+01,\n",
       "            8.9666e+00,  1.6674e+01],\n",
       "          [ 6.4200e+01, -2.8140e+01, -3.1188e+01,  ...,  7.5618e+01,\n",
       "            7.3053e+01,  4.1586e+01],\n",
       "          ...,\n",
       "          [ 1.4392e+01,  1.9166e+02,  8.9055e+01,  ...,  1.3903e+02,\n",
       "            2.2706e+02, -2.8197e+01],\n",
       "          [ 1.8130e+01,  2.9558e+02,  1.3130e+02,  ...,  1.2867e+02,\n",
       "            2.8889e+02, -1.4346e+02],\n",
       "          [-1.4369e-04,  3.5100e-02,  4.0043e-02,  ..., -1.9964e-03,\n",
       "           -1.9312e-02, -1.2039e-01]],\n",
       " \n",
       "         ...,\n",
       " \n",
       "         [[-4.6257e+01,  6.2124e+00,  2.9000e+01,  ...,  9.4952e+00,\n",
       "            8.1003e+01,  8.6833e-01],\n",
       "          [-6.8101e+01,  4.0292e+00,  1.0426e+01,  ...,  1.1127e+01,\n",
       "            9.8225e+01,  1.8956e+01],\n",
       "          [-1.0087e+02,  8.1390e+01, -2.8857e+01,  ...,  9.5753e+01,\n",
       "            7.2484e+01,  6.1443e+01],\n",
       "          ...,\n",
       "          [-6.2152e+01,  3.6598e+02,  1.0372e+02,  ...,  1.9504e+02,\n",
       "            2.0103e+02,  2.6993e+01],\n",
       "          [-4.4772e+01,  5.2735e+02,  1.9049e+02,  ...,  2.5406e+02,\n",
       "            2.7338e+02, -4.1852e+01],\n",
       "          [-2.0741e-02,  9.5945e-02,  6.0687e-02,  ...,  1.8193e-02,\n",
       "           -1.6651e-02, -8.5662e-02]],\n",
       " \n",
       "         [[ 1.1251e+01,  8.0619e+00,  1.4187e+01,  ...,  9.8125e+00,\n",
       "           -7.8688e+00, -3.6046e+00],\n",
       "          [ 4.2818e+00,  5.9033e+00,  1.7376e+01,  ...,  3.0709e+01,\n",
       "           -6.8700e+00,  1.9070e+01],\n",
       "          [ 4.2713e+00,  6.1310e+01, -7.0743e+00,  ...,  6.0226e+01,\n",
       "            5.0129e+01,  3.9420e+01],\n",
       "          ...,\n",
       "          [-1.8512e+01,  3.0053e+02,  6.4881e+01,  ...,  1.2914e+02,\n",
       "            1.4351e+02, -5.5256e+00],\n",
       "          [ 4.3637e+01,  3.9792e+02,  1.2942e+02,  ...,  5.3052e+01,\n",
       "            1.4523e+02, -9.8511e+01],\n",
       "          [ 1.6433e-04,  3.3914e-02,  4.0501e-02,  ...,  9.7644e-03,\n",
       "           -1.7615e-02, -1.1648e-01]],\n",
       " \n",
       "         [[ 6.7748e+00,  7.0893e+00,  1.6628e+01,  ...,  5.4675e+00,\n",
       "            6.0923e+00,  1.6762e+00],\n",
       "          [-4.8217e+01,  2.0198e+01,  3.5533e+01,  ...,  3.6206e+01,\n",
       "           -3.8643e+00, -4.4124e+01],\n",
       "          [-8.3201e+01,  2.1000e+01,  4.0128e+01,  ...,  4.6266e+01,\n",
       "           -3.5228e+01, -8.6967e+01],\n",
       "          ...,\n",
       "          [-4.2223e+01,  3.2131e+02, -7.9667e+01,  ...,  1.9353e+02,\n",
       "            5.8590e+01, -1.2126e+02],\n",
       "          [ 1.2529e+02,  4.2583e+02,  9.1720e+01,  ...,  1.7442e+02,\n",
       "            1.8143e+02, -1.8274e+02],\n",
       "          [ 1.6528e-02,  1.5092e-01,  3.3561e-02,  ...,  1.2879e-02,\n",
       "           -1.0045e-02, -1.6047e-01]]], device='cuda:1')}"
      ]
     },
     "execution_count": 16,
     "metadata": {},
     "output_type": "execute_result"
    }
   ],
   "source": [
    "custom_samples[0]"
   ]
  },
  {
   "cell_type": "code",
   "execution_count": null,
   "metadata": {},
   "outputs": [],
   "source": []
  }
 ],
 "metadata": {
  "kernelspec": {
   "display_name": "Python 3",
   "language": "python",
   "name": "python3"
  },
  "language_info": {
   "codemirror_mode": {
    "name": "ipython",
    "version": 3
   },
   "file_extension": ".py",
   "mimetype": "text/x-python",
   "name": "python",
   "nbconvert_exporter": "python",
   "pygments_lexer": "ipython3",
   "version": "3.6.9"
  }
 },
 "nbformat": 4,
 "nbformat_minor": 4
}
